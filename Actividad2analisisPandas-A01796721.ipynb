{
 "cells": [
  {
   "cell_type": "markdown",
   "metadata": {
    "id": "SML-04QQLd9l"
   },
   "source": [
    "**MAESTRÍA EN INTELIGENCIA ARTIFICIAL APLICADA**\n",
    "\n",
    "**Curso: TC4029 - Ciencia y analítica de datos**\n",
    "\n",
    "Tecnológico de Monterrey\n",
    "\n",
    "Prof Grettel Barceló Alonso\n",
    "\n",
    "**Semana 2**\n",
    "Pandas para el análisis de datos en Python\n",
    "\n",
    "---"
   ]
  },
  {
   "cell_type": "markdown",
   "metadata": {
    "id": "6q35__bSBB3G"
   },
   "source": [
    "*   NOMBRE: Verónica Andrea Bravo Benavides\n",
    "*   MATRÍCULA:A01796721\n"
   ]
  },
  {
   "cell_type": "markdown",
   "metadata": {
    "id": "AepY3wwtDXkc"
   },
   "source": [
    "---"
   ]
  },
  {
   "cell_type": "markdown",
   "metadata": {
    "id": "BumCtObqBqGr"
   },
   "source": [
    "En esta actividad usarás el archivo de datos `LaqnData.csv`. Cada fila de este conjunto de datos muestra un registro de medición, por hora, de uno de los siguientes cinco contaminantes del aire:\n",
    "\n",
    "*   `NO` (óxido nítrico)\n",
    "*   `NO2` (dióxido de nitrógeno)\n",
    "*   `NOX` (óxidos nitrosos)\n",
    "*   `PM10` (partículas suspendidas con un diámetro aerodinámico igual o menor a 10 micrómetros)\n",
    "*   `PM2.5` (partículas suspendidas con un diámetro aerodinámico igual o menor a 2.5 micrómetros)\n",
    "\n",
    "Los datos se recopilaron en una ubicación de Londres durante todo el año 2017.\n",
    "\n",
    "**NOTA IMPORTANTE:** Asegúrate de responder *explícitamente* todos los cuestionamientos.\n"
   ]
  },
  {
   "cell_type": "markdown",
   "metadata": {
    "id": "mqtTwAL3Mr44"
   },
   "source": [
    "1.\tDescarga el archivo: `LaqnData.csv` y guarda, en un dataframe (`air_df`), todos sus registros.\n",
    "*   Observa la estructura y contenido del dataframe con los atributos y métodos estudiados (`shape`, `columns`, `head()`, `tail()`, `dtypes`)\n",
    "*   Calcula el porcentaje de valores faltantes por columna."
   ]
  },
  {
   "cell_type": "code",
   "execution_count": 6,
   "metadata": {
    "id": "dd_FrU8uYb4K"
   },
   "outputs": [],
   "source": [
    "#Librerias\n",
    "import pandas as pd\n",
    "import matplotlib.pyplot as plt"
   ]
  },
  {
   "cell_type": "code",
   "execution_count": 7,
   "metadata": {
    "id": "F5JognteLaJV"
   },
   "outputs": [],
   "source": [
    "air_df=pd.read_csv('LaqnData.csv')\n",
    "#Se carga el conjunto de datos"
   ]
  },
  {
   "cell_type": "code",
   "execution_count": 8,
   "metadata": {
    "colab": {
     "base_uri": "https://localhost:8080/"
    },
    "id": "a29BOGwoY-1A",
    "outputId": "28d61ccb-a1c3-4a3c-a294-bee45c5a5667"
   },
   "outputs": [
    {
     "data": {
      "text/plain": [
       "(43800, 6)"
      ]
     },
     "execution_count": 8,
     "metadata": {},
     "output_type": "execute_result"
    }
   ],
   "source": [
    "air_df.shape\n",
    "#El archivo contiene 43800 registros y 6 columnas"
   ]
  },
  {
   "cell_type": "code",
   "execution_count": 9,
   "metadata": {
    "colab": {
     "base_uri": "https://localhost:8080/"
    },
    "id": "C8aMJsycZNv-",
    "outputId": "601702dd-5564-4b2c-c909-7d04fcdbf3e5"
   },
   "outputs": [
    {
     "data": {
      "text/plain": [
       "Index(['Site', 'Species', 'ReadingDateTime', 'Value', 'Units',\n",
       "       'Provisional or Ratified'],\n",
       "      dtype='object')"
      ]
     },
     "execution_count": 9,
     "metadata": {},
     "output_type": "execute_result"
    }
   ],
   "source": [
    "air_df.columns\n",
    "# Los nombras de las columnas son: 'Site', 'Species', 'ReadingDateTime', 'Value', 'Units', 'Provisional or Ratified'"
   ]
  },
  {
   "cell_type": "code",
   "execution_count": 10,
   "metadata": {
    "colab": {
     "base_uri": "https://localhost:8080/",
     "height": 363
    },
    "id": "JJIovmtYZR0u",
    "outputId": "cba91a51-a1a9-4bef-9539-32af3d7803d6"
   },
   "outputs": [
    {
     "data": {
      "text/html": [
       "<div>\n",
       "<style scoped>\n",
       "    .dataframe tbody tr th:only-of-type {\n",
       "        vertical-align: middle;\n",
       "    }\n",
       "\n",
       "    .dataframe tbody tr th {\n",
       "        vertical-align: top;\n",
       "    }\n",
       "\n",
       "    .dataframe thead th {\n",
       "        text-align: right;\n",
       "    }\n",
       "</style>\n",
       "<table border=\"1\" class=\"dataframe\">\n",
       "  <thead>\n",
       "    <tr style=\"text-align: right;\">\n",
       "      <th></th>\n",
       "      <th>Site</th>\n",
       "      <th>Species</th>\n",
       "      <th>ReadingDateTime</th>\n",
       "      <th>Value</th>\n",
       "      <th>Units</th>\n",
       "      <th>Provisional or Ratified</th>\n",
       "    </tr>\n",
       "  </thead>\n",
       "  <tbody>\n",
       "    <tr>\n",
       "      <th>0</th>\n",
       "      <td>CT3</td>\n",
       "      <td>NO</td>\n",
       "      <td>01/01/2017 00:00</td>\n",
       "      <td>3.5</td>\n",
       "      <td>ug m-3</td>\n",
       "      <td>R</td>\n",
       "    </tr>\n",
       "    <tr>\n",
       "      <th>1</th>\n",
       "      <td>CT3</td>\n",
       "      <td>NO</td>\n",
       "      <td>01/01/2017 01:00</td>\n",
       "      <td>3.6</td>\n",
       "      <td>ug m-3</td>\n",
       "      <td>R</td>\n",
       "    </tr>\n",
       "    <tr>\n",
       "      <th>2</th>\n",
       "      <td>CT3</td>\n",
       "      <td>NO</td>\n",
       "      <td>01/01/2017 02:00</td>\n",
       "      <td>2.2</td>\n",
       "      <td>ug m-3</td>\n",
       "      <td>R</td>\n",
       "    </tr>\n",
       "    <tr>\n",
       "      <th>3</th>\n",
       "      <td>CT3</td>\n",
       "      <td>NO</td>\n",
       "      <td>01/01/2017 03:00</td>\n",
       "      <td>2.1</td>\n",
       "      <td>ug m-3</td>\n",
       "      <td>R</td>\n",
       "    </tr>\n",
       "    <tr>\n",
       "      <th>4</th>\n",
       "      <td>CT3</td>\n",
       "      <td>NO</td>\n",
       "      <td>01/01/2017 04:00</td>\n",
       "      <td>3.3</td>\n",
       "      <td>ug m-3</td>\n",
       "      <td>R</td>\n",
       "    </tr>\n",
       "    <tr>\n",
       "      <th>5</th>\n",
       "      <td>CT3</td>\n",
       "      <td>NO</td>\n",
       "      <td>01/01/2017 05:00</td>\n",
       "      <td>2.1</td>\n",
       "      <td>ug m-3</td>\n",
       "      <td>R</td>\n",
       "    </tr>\n",
       "    <tr>\n",
       "      <th>6</th>\n",
       "      <td>CT3</td>\n",
       "      <td>NO</td>\n",
       "      <td>01/01/2017 06:00</td>\n",
       "      <td>4.4</td>\n",
       "      <td>ug m-3</td>\n",
       "      <td>R</td>\n",
       "    </tr>\n",
       "    <tr>\n",
       "      <th>7</th>\n",
       "      <td>CT3</td>\n",
       "      <td>NO</td>\n",
       "      <td>01/01/2017 07:00</td>\n",
       "      <td>5.1</td>\n",
       "      <td>ug m-3</td>\n",
       "      <td>R</td>\n",
       "    </tr>\n",
       "    <tr>\n",
       "      <th>8</th>\n",
       "      <td>CT3</td>\n",
       "      <td>NO</td>\n",
       "      <td>01/01/2017 08:00</td>\n",
       "      <td>7.4</td>\n",
       "      <td>ug m-3</td>\n",
       "      <td>R</td>\n",
       "    </tr>\n",
       "    <tr>\n",
       "      <th>9</th>\n",
       "      <td>CT3</td>\n",
       "      <td>NO</td>\n",
       "      <td>01/01/2017 09:00</td>\n",
       "      <td>6.5</td>\n",
       "      <td>ug m-3</td>\n",
       "      <td>R</td>\n",
       "    </tr>\n",
       "  </tbody>\n",
       "</table>\n",
       "</div>"
      ],
      "text/plain": [
       "  Site Species   ReadingDateTime  Value   Units Provisional or Ratified\n",
       "0  CT3      NO  01/01/2017 00:00    3.5  ug m-3                       R\n",
       "1  CT3      NO  01/01/2017 01:00    3.6  ug m-3                       R\n",
       "2  CT3      NO  01/01/2017 02:00    2.2  ug m-3                       R\n",
       "3  CT3      NO  01/01/2017 03:00    2.1  ug m-3                       R\n",
       "4  CT3      NO  01/01/2017 04:00    3.3  ug m-3                       R\n",
       "5  CT3      NO  01/01/2017 05:00    2.1  ug m-3                       R\n",
       "6  CT3      NO  01/01/2017 06:00    4.4  ug m-3                       R\n",
       "7  CT3      NO  01/01/2017 07:00    5.1  ug m-3                       R\n",
       "8  CT3      NO  01/01/2017 08:00    7.4  ug m-3                       R\n",
       "9  CT3      NO  01/01/2017 09:00    6.5  ug m-3                       R"
      ]
     },
     "execution_count": 10,
     "metadata": {},
     "output_type": "execute_result"
    }
   ],
   "source": [
    "air_df.head(10)\n",
    "#Podemos hacer una revisión de los primeros 10 registros del dataset"
   ]
  },
  {
   "cell_type": "code",
   "execution_count": 11,
   "metadata": {
    "colab": {
     "base_uri": "https://localhost:8080/",
     "height": 363
    },
    "id": "EtwD4071ZWUD",
    "outputId": "d7332b38-b33e-4abf-f5ba-025d9ff443d8"
   },
   "outputs": [
    {
     "data": {
      "text/html": [
       "<div>\n",
       "<style scoped>\n",
       "    .dataframe tbody tr th:only-of-type {\n",
       "        vertical-align: middle;\n",
       "    }\n",
       "\n",
       "    .dataframe tbody tr th {\n",
       "        vertical-align: top;\n",
       "    }\n",
       "\n",
       "    .dataframe thead th {\n",
       "        text-align: right;\n",
       "    }\n",
       "</style>\n",
       "<table border=\"1\" class=\"dataframe\">\n",
       "  <thead>\n",
       "    <tr style=\"text-align: right;\">\n",
       "      <th></th>\n",
       "      <th>Site</th>\n",
       "      <th>Species</th>\n",
       "      <th>ReadingDateTime</th>\n",
       "      <th>Value</th>\n",
       "      <th>Units</th>\n",
       "      <th>Provisional or Ratified</th>\n",
       "    </tr>\n",
       "  </thead>\n",
       "  <tbody>\n",
       "    <tr>\n",
       "      <th>43790</th>\n",
       "      <td>CT3</td>\n",
       "      <td>PM2.5</td>\n",
       "      <td>31/12/2017 14:00</td>\n",
       "      <td>8.0</td>\n",
       "      <td>ug m-3</td>\n",
       "      <td>R</td>\n",
       "    </tr>\n",
       "    <tr>\n",
       "      <th>43791</th>\n",
       "      <td>CT3</td>\n",
       "      <td>PM2.5</td>\n",
       "      <td>31/12/2017 15:00</td>\n",
       "      <td>2.0</td>\n",
       "      <td>ug m-3</td>\n",
       "      <td>R</td>\n",
       "    </tr>\n",
       "    <tr>\n",
       "      <th>43792</th>\n",
       "      <td>CT3</td>\n",
       "      <td>PM2.5</td>\n",
       "      <td>31/12/2017 16:00</td>\n",
       "      <td>2.0</td>\n",
       "      <td>ug m-3</td>\n",
       "      <td>R</td>\n",
       "    </tr>\n",
       "    <tr>\n",
       "      <th>43793</th>\n",
       "      <td>CT3</td>\n",
       "      <td>PM2.5</td>\n",
       "      <td>31/12/2017 17:00</td>\n",
       "      <td>4.0</td>\n",
       "      <td>ug m-3</td>\n",
       "      <td>R</td>\n",
       "    </tr>\n",
       "    <tr>\n",
       "      <th>43794</th>\n",
       "      <td>CT3</td>\n",
       "      <td>PM2.5</td>\n",
       "      <td>31/12/2017 18:00</td>\n",
       "      <td>5.0</td>\n",
       "      <td>ug m-3</td>\n",
       "      <td>R</td>\n",
       "    </tr>\n",
       "    <tr>\n",
       "      <th>43795</th>\n",
       "      <td>CT3</td>\n",
       "      <td>PM2.5</td>\n",
       "      <td>31/12/2017 19:00</td>\n",
       "      <td>-2.0</td>\n",
       "      <td>ug m-3</td>\n",
       "      <td>R</td>\n",
       "    </tr>\n",
       "    <tr>\n",
       "      <th>43796</th>\n",
       "      <td>CT3</td>\n",
       "      <td>PM2.5</td>\n",
       "      <td>31/12/2017 20:00</td>\n",
       "      <td>6.0</td>\n",
       "      <td>ug m-3</td>\n",
       "      <td>R</td>\n",
       "    </tr>\n",
       "    <tr>\n",
       "      <th>43797</th>\n",
       "      <td>CT3</td>\n",
       "      <td>PM2.5</td>\n",
       "      <td>31/12/2017 21:00</td>\n",
       "      <td>5.0</td>\n",
       "      <td>ug m-3</td>\n",
       "      <td>R</td>\n",
       "    </tr>\n",
       "    <tr>\n",
       "      <th>43798</th>\n",
       "      <td>CT3</td>\n",
       "      <td>PM2.5</td>\n",
       "      <td>31/12/2017 22:00</td>\n",
       "      <td>5.0</td>\n",
       "      <td>ug m-3</td>\n",
       "      <td>R</td>\n",
       "    </tr>\n",
       "    <tr>\n",
       "      <th>43799</th>\n",
       "      <td>CT3</td>\n",
       "      <td>PM2.5</td>\n",
       "      <td>31/12/2017 23:00</td>\n",
       "      <td>6.0</td>\n",
       "      <td>ug m-3</td>\n",
       "      <td>R</td>\n",
       "    </tr>\n",
       "  </tbody>\n",
       "</table>\n",
       "</div>"
      ],
      "text/plain": [
       "      Site Species   ReadingDateTime  Value   Units Provisional or Ratified\n",
       "43790  CT3   PM2.5  31/12/2017 14:00    8.0  ug m-3                       R\n",
       "43791  CT3   PM2.5  31/12/2017 15:00    2.0  ug m-3                       R\n",
       "43792  CT3   PM2.5  31/12/2017 16:00    2.0  ug m-3                       R\n",
       "43793  CT3   PM2.5  31/12/2017 17:00    4.0  ug m-3                       R\n",
       "43794  CT3   PM2.5  31/12/2017 18:00    5.0  ug m-3                       R\n",
       "43795  CT3   PM2.5  31/12/2017 19:00   -2.0  ug m-3                       R\n",
       "43796  CT3   PM2.5  31/12/2017 20:00    6.0  ug m-3                       R\n",
       "43797  CT3   PM2.5  31/12/2017 21:00    5.0  ug m-3                       R\n",
       "43798  CT3   PM2.5  31/12/2017 22:00    5.0  ug m-3                       R\n",
       "43799  CT3   PM2.5  31/12/2017 23:00    6.0  ug m-3                       R"
      ]
     },
     "execution_count": 11,
     "metadata": {},
     "output_type": "execute_result"
    }
   ],
   "source": [
    "air_df.tail(10)\n",
    "#Podemos hacer la revisión de los ultimos 10 registros del dataset"
   ]
  },
  {
   "cell_type": "code",
   "execution_count": 12,
   "metadata": {
    "colab": {
     "base_uri": "https://localhost:8080/",
     "height": 272
    },
    "id": "EjHkYuxOZgs9",
    "outputId": "47a8dc64-b4b0-4099-9e41-eff8a3e6c4d9"
   },
   "outputs": [
    {
     "data": {
      "text/plain": [
       "Site                        object\n",
       "Species                     object\n",
       "ReadingDateTime             object\n",
       "Value                      float64\n",
       "Units                       object\n",
       "Provisional or Ratified     object\n",
       "dtype: object"
      ]
     },
     "execution_count": 12,
     "metadata": {},
     "output_type": "execute_result"
    }
   ],
   "source": [
    "air_df.dtypes\n",
    "#Tipos de datos por columna presentes en el dataset. Esto nos permite determinar que columnas debemos cambiar más adelante para hacer el análisis de forma correcta\n"
   ]
  },
  {
   "cell_type": "code",
   "execution_count": 13,
   "metadata": {
    "colab": {
     "base_uri": "https://localhost:8080/"
    },
    "id": "aTqTYJgofyYv",
    "outputId": "851caa69-e155-4ec7-d340-fd881115325b"
   },
   "outputs": [
    {
     "name": "stdout",
     "output_type": "stream",
     "text": [
      "Site                       0.000000\n",
      "Species                    0.000000\n",
      "ReadingDateTime            0.000000\n",
      "Value                      7.374429\n",
      "Units                      0.000000\n",
      "Provisional or Ratified    0.000000\n",
      "dtype: float64\n"
     ]
    }
   ],
   "source": [
    "# Calcular el porcentaje de valores faltantes por columna\n",
    "missing_values = air_df.isnull().sum() / len(air_df) * 100\n",
    "print(missing_values)"
   ]
  },
  {
   "cell_type": "code",
   "execution_count": 14,
   "metadata": {
    "colab": {
     "base_uri": "https://localhost:8080/",
     "height": 272
    },
    "id": "eKWxW0pZkM6B",
    "outputId": "7337e14a-9b9f-4742-e719-97cbd93b331e"
   },
   "outputs": [
    {
     "data": {
      "text/plain": [
       "Site                          0\n",
       "Species                       0\n",
       "ReadingDateTime               0\n",
       "Value                      3230\n",
       "Units                         0\n",
       "Provisional or Ratified       0\n",
       "dtype: int64"
      ]
     },
     "execution_count": 14,
     "metadata": {},
     "output_type": "execute_result"
    }
   ],
   "source": [
    "air_df.isnull().sum()\n"
   ]
  },
  {
   "cell_type": "markdown",
   "metadata": {
    "id": "APrlS185Cw-K"
   },
   "source": [
    "2.\tObtén la cantidad de valores únicos por columna (`nunique()`) para responder:\n",
    "\n",
    "\n",
    "*   ¿Cuántas mediciones se hicieron?\n",
    "*   ¿Cuántos contaminantes del aire (`Species`) se analizaron?\n",
    "*   ¿Qué columnas no agregan ningún valor informativo porque el mismo valor en todo el conjunto de datos? Elimínalas del dataframe.\n",
    "*   La columna `Units` tampoco posee valor informativo. Verifícalo con la función `unique()` y elimínala del dataframe."
   ]
  },
  {
   "cell_type": "code",
   "execution_count": 15,
   "metadata": {
    "colab": {
     "base_uri": "https://localhost:8080/",
     "height": 272
    },
    "id": "Ke0EGLVaCwm6",
    "outputId": "b5e3ec86-b1c7-4ad8-8d3b-83c722c24d04"
   },
   "outputs": [
    {
     "data": {
      "text/plain": [
       "Site                          1\n",
       "Species                       5\n",
       "ReadingDateTime            8760\n",
       "Value                      1847\n",
       "Units                         3\n",
       "Provisional or Ratified       1\n",
       "dtype: int64"
      ]
     },
     "execution_count": 15,
     "metadata": {},
     "output_type": "execute_result"
    }
   ],
   "source": [
    "air_df.nunique()"
   ]
  },
  {
   "cell_type": "markdown",
   "metadata": {
    "id": "5W8La-_3bpDT"
   },
   "source": [
    "* ¿Cuántas mediciones se hicieron?\n",
    "Se hicieron 8760 por contaminante\n",
    "\n",
    "* ¿Cuántos contaminantes del aire (`Species`) se analizaron?\n",
    "Se analizaron 5 contaminantes del aire\n",
    "\n",
    "* ¿Qué columnas no agregan ningún valor informativo porque el mismo valor en todo el conjunto de datos? Elimínalas del dataframe.\n",
    "Las columnas que no agregan níngún valor informativo son: 'Site', 'Provisional or Ratified'\n"
   ]
  },
  {
   "cell_type": "code",
   "execution_count": 16,
   "metadata": {
    "id": "1202aPnxbUR3"
   },
   "outputs": [],
   "source": [
    "air_df.drop(['Site', 'Provisional or Ratified'], axis=1, inplace=True)"
   ]
  },
  {
   "cell_type": "markdown",
   "metadata": {
    "id": "f1JRqY0kcxin"
   },
   "source": [
    "* La columna Units tampoco posee valor informativo. Verifícalo con la función unique() y elimínala del dataframe."
   ]
  },
  {
   "cell_type": "code",
   "execution_count": 17,
   "metadata": {
    "colab": {
     "base_uri": "https://localhost:8080/"
    },
    "id": "ehSbxNUHc4Xj",
    "outputId": "9e570465-609e-49f0-f29f-14fed8fcdafd"
   },
   "outputs": [
    {
     "data": {
      "text/plain": [
       "array(['ug m-3', 'ug m-3 as NO2', 'ug/m3'], dtype=object)"
      ]
     },
     "execution_count": 17,
     "metadata": {},
     "output_type": "execute_result"
    }
   ],
   "source": [
    "air_df.Units.unique()"
   ]
  },
  {
   "cell_type": "code",
   "execution_count": 18,
   "metadata": {
    "id": "AS4w7USidZvC"
   },
   "outputs": [],
   "source": [
    "air_df.drop(['Units'], axis=1, inplace=True)"
   ]
  },
  {
   "cell_type": "markdown",
   "metadata": {
    "id": "zEddCwHWEJZ7"
   },
   "source": [
    "3.\tRealiza el conteo de valores por categoría (`value_counts()`) para la columna `Species` y determina si las lecturas de cada contaminante coincide con el total de mediciones."
   ]
  },
  {
   "cell_type": "code",
   "execution_count": 19,
   "metadata": {
    "colab": {
     "base_uri": "https://localhost:8080/",
     "height": 272
    },
    "id": "inCKasmZEPsv",
    "outputId": "25f204d7-25d7-41a5-f3c0-5b905bce59cb"
   },
   "outputs": [
    {
     "data": {
      "text/plain": [
       "Species\n",
       "NO       8760\n",
       "NO2      8760\n",
       "NOX      8760\n",
       "PM10     8760\n",
       "PM2.5    8760\n",
       "Name: count, dtype: int64"
      ]
     },
     "execution_count": 19,
     "metadata": {},
     "output_type": "execute_result"
    }
   ],
   "source": [
    "air_df.Species.value_counts()"
   ]
  },
  {
   "cell_type": "markdown",
   "metadata": {
    "id": "ZxQg63i5lshv"
   },
   "source": [
    "Cada uno de los cinco contaminantes tiene 8760 lecturas. Esto tiene sentido porque 8760 es el número total de horas en un año (365 días x 24 horas = 8760 horas), lo cual confirma que las mediciones se realizaron cada hora durante todo el año.\n",
    "El total de mediciones sería la suma de todas las lecturas para los cinco contaminantes. Dado que cada contaminante tiene 8760 mediciones y hay 5 contaminantes, el total de mediciones es:43800."
   ]
  },
  {
   "cell_type": "markdown",
   "metadata": {
    "id": "zhJM6l1vETfI"
   },
   "source": [
    "4.\tUtiliza la función `groupby()` para determinar el promedio del valor por contaminante."
   ]
  },
  {
   "cell_type": "code",
   "execution_count": 20,
   "metadata": {
    "colab": {
     "base_uri": "https://localhost:8080/",
     "height": 272
    },
    "id": "zstyHahSETJK",
    "outputId": "90d92a96-7240-471d-ddab-8b1272fed238"
   },
   "outputs": [
    {
     "data": {
      "text/plain": [
       "Species\n",
       "NO       15.045115\n",
       "NO2      38.010185\n",
       "NOX      61.078661\n",
       "PM10     22.551704\n",
       "PM2.5    14.999831\n",
       "Name: Value, dtype: float64"
      ]
     },
     "execution_count": 20,
     "metadata": {},
     "output_type": "execute_result"
    }
   ],
   "source": [
    "air_df.groupby('Species')['Value'].mean()\n",
    "\n"
   ]
  },
  {
   "cell_type": "markdown",
   "metadata": {
    "id": "GY2ux-Q_EV7J"
   },
   "source": [
    "5.\tEl conjunto de datos está en un formato largo. Aplique la función apropiada para cambiarlo al formato ancho (`ReadingDateTime` como índice y cada contaminante en una columna). Nombre el dataframe resultante como `pvt_df`."
   ]
  },
  {
   "cell_type": "code",
   "execution_count": 21,
   "metadata": {
    "id": "1IETxb9vFIF-"
   },
   "outputs": [],
   "source": [
    "pvt_df = air_df.pivot(index='ReadingDateTime', columns='Species', values='Value')\n"
   ]
  },
  {
   "cell_type": "code",
   "execution_count": 22,
   "metadata": {
    "colab": {
     "base_uri": "https://localhost:8080/",
     "height": 455
    },
    "id": "yJFht7h1iRlK",
    "outputId": "0aa23544-414f-46ff-d4cb-f1049504eae4"
   },
   "outputs": [
    {
     "data": {
      "text/html": [
       "<div>\n",
       "<style scoped>\n",
       "    .dataframe tbody tr th:only-of-type {\n",
       "        vertical-align: middle;\n",
       "    }\n",
       "\n",
       "    .dataframe tbody tr th {\n",
       "        vertical-align: top;\n",
       "    }\n",
       "\n",
       "    .dataframe thead th {\n",
       "        text-align: right;\n",
       "    }\n",
       "</style>\n",
       "<table border=\"1\" class=\"dataframe\">\n",
       "  <thead>\n",
       "    <tr style=\"text-align: right;\">\n",
       "      <th>Species</th>\n",
       "      <th>NO</th>\n",
       "      <th>NO2</th>\n",
       "      <th>NOX</th>\n",
       "      <th>PM10</th>\n",
       "      <th>PM2.5</th>\n",
       "    </tr>\n",
       "    <tr>\n",
       "      <th>ReadingDateTime</th>\n",
       "      <th></th>\n",
       "      <th></th>\n",
       "      <th></th>\n",
       "      <th></th>\n",
       "      <th></th>\n",
       "    </tr>\n",
       "  </thead>\n",
       "  <tbody>\n",
       "    <tr>\n",
       "      <th>01/01/2017 00:00</th>\n",
       "      <td>3.5</td>\n",
       "      <td>30.8</td>\n",
       "      <td>36.2</td>\n",
       "      <td>35.7</td>\n",
       "      <td>NaN</td>\n",
       "    </tr>\n",
       "    <tr>\n",
       "      <th>01/01/2017 01:00</th>\n",
       "      <td>3.6</td>\n",
       "      <td>31.5</td>\n",
       "      <td>37.0</td>\n",
       "      <td>28.5</td>\n",
       "      <td>NaN</td>\n",
       "    </tr>\n",
       "    <tr>\n",
       "      <th>01/01/2017 02:00</th>\n",
       "      <td>2.2</td>\n",
       "      <td>27.3</td>\n",
       "      <td>30.7</td>\n",
       "      <td>22.7</td>\n",
       "      <td>NaN</td>\n",
       "    </tr>\n",
       "    <tr>\n",
       "      <th>01/01/2017 03:00</th>\n",
       "      <td>2.1</td>\n",
       "      <td>23.5</td>\n",
       "      <td>26.8</td>\n",
       "      <td>20.5</td>\n",
       "      <td>NaN</td>\n",
       "    </tr>\n",
       "    <tr>\n",
       "      <th>01/01/2017 04:00</th>\n",
       "      <td>3.3</td>\n",
       "      <td>28.0</td>\n",
       "      <td>33.0</td>\n",
       "      <td>22.1</td>\n",
       "      <td>NaN</td>\n",
       "    </tr>\n",
       "    <tr>\n",
       "      <th>...</th>\n",
       "      <td>...</td>\n",
       "      <td>...</td>\n",
       "      <td>...</td>\n",
       "      <td>...</td>\n",
       "      <td>...</td>\n",
       "    </tr>\n",
       "    <tr>\n",
       "      <th>31/12/2017 19:00</th>\n",
       "      <td>0.7</td>\n",
       "      <td>17.5</td>\n",
       "      <td>18.5</td>\n",
       "      <td>16.3</td>\n",
       "      <td>-2.0</td>\n",
       "    </tr>\n",
       "    <tr>\n",
       "      <th>31/12/2017 20:00</th>\n",
       "      <td>0.7</td>\n",
       "      <td>17.5</td>\n",
       "      <td>18.6</td>\n",
       "      <td>14.5</td>\n",
       "      <td>6.0</td>\n",
       "    </tr>\n",
       "    <tr>\n",
       "      <th>31/12/2017 21:00</th>\n",
       "      <td>0.7</td>\n",
       "      <td>14.1</td>\n",
       "      <td>15.1</td>\n",
       "      <td>8.6</td>\n",
       "      <td>5.0</td>\n",
       "    </tr>\n",
       "    <tr>\n",
       "      <th>31/12/2017 22:00</th>\n",
       "      <td>1.1</td>\n",
       "      <td>22.0</td>\n",
       "      <td>23.6</td>\n",
       "      <td>12.5</td>\n",
       "      <td>5.0</td>\n",
       "    </tr>\n",
       "    <tr>\n",
       "      <th>31/12/2017 23:00</th>\n",
       "      <td>0.9</td>\n",
       "      <td>19.4</td>\n",
       "      <td>20.7</td>\n",
       "      <td>10.4</td>\n",
       "      <td>6.0</td>\n",
       "    </tr>\n",
       "  </tbody>\n",
       "</table>\n",
       "<p>8760 rows × 5 columns</p>\n",
       "</div>"
      ],
      "text/plain": [
       "Species            NO   NO2   NOX  PM10  PM2.5\n",
       "ReadingDateTime                               \n",
       "01/01/2017 00:00  3.5  30.8  36.2  35.7    NaN\n",
       "01/01/2017 01:00  3.6  31.5  37.0  28.5    NaN\n",
       "01/01/2017 02:00  2.2  27.3  30.7  22.7    NaN\n",
       "01/01/2017 03:00  2.1  23.5  26.8  20.5    NaN\n",
       "01/01/2017 04:00  3.3  28.0  33.0  22.1    NaN\n",
       "...               ...   ...   ...   ...    ...\n",
       "31/12/2017 19:00  0.7  17.5  18.5  16.3   -2.0\n",
       "31/12/2017 20:00  0.7  17.5  18.6  14.5    6.0\n",
       "31/12/2017 21:00  0.7  14.1  15.1   8.6    5.0\n",
       "31/12/2017 22:00  1.1  22.0  23.6  12.5    5.0\n",
       "31/12/2017 23:00  0.9  19.4  20.7  10.4    6.0\n",
       "\n",
       "[8760 rows x 5 columns]"
      ]
     },
     "execution_count": 22,
     "metadata": {},
     "output_type": "execute_result"
    }
   ],
   "source": [
    "pvt_df"
   ]
  },
  {
   "cell_type": "markdown",
   "metadata": {
    "id": "JmbiBXqFFIZx"
   },
   "source": [
    "6.\tA través de la función `describe()` responde:\n",
    "\n",
    "*   ¿Cuál es el mayor valor de `NO2` registrado? ¿A qué día pertenece?\n",
    "*   ¿Cuál es el menor valor de `PM10` registrado?¿A qué día pertenece?\n",
    "*   ¿Cuál es la mediana del `NO`? ¿Cómo se interpreta?\n",
    "*   ¿Cuál es el primer cuartil de `PM2.5`? ¿Qué significa?"
   ]
  },
  {
   "cell_type": "code",
   "execution_count": 23,
   "metadata": {
    "colab": {
     "base_uri": "https://localhost:8080/",
     "height": 300
    },
    "id": "_qWYoEx3Fbod",
    "outputId": "dac6b764-336d-4960-a8da-e1bfa0805e02"
   },
   "outputs": [
    {
     "data": {
      "text/html": [
       "<div>\n",
       "<style scoped>\n",
       "    .dataframe tbody tr th:only-of-type {\n",
       "        vertical-align: middle;\n",
       "    }\n",
       "\n",
       "    .dataframe tbody tr th {\n",
       "        vertical-align: top;\n",
       "    }\n",
       "\n",
       "    .dataframe thead th {\n",
       "        text-align: right;\n",
       "    }\n",
       "</style>\n",
       "<table border=\"1\" class=\"dataframe\">\n",
       "  <thead>\n",
       "    <tr style=\"text-align: right;\">\n",
       "      <th>Species</th>\n",
       "      <th>NO</th>\n",
       "      <th>NO2</th>\n",
       "      <th>NOX</th>\n",
       "      <th>PM10</th>\n",
       "      <th>PM2.5</th>\n",
       "    </tr>\n",
       "  </thead>\n",
       "  <tbody>\n",
       "    <tr>\n",
       "      <th>count</th>\n",
       "      <td>8660.000000</td>\n",
       "      <td>8660.000000</td>\n",
       "      <td>8660.000000</td>\n",
       "      <td>8657.000000</td>\n",
       "      <td>5933.000000</td>\n",
       "    </tr>\n",
       "    <tr>\n",
       "      <th>mean</th>\n",
       "      <td>15.045115</td>\n",
       "      <td>38.010185</td>\n",
       "      <td>61.078661</td>\n",
       "      <td>22.551704</td>\n",
       "      <td>14.999831</td>\n",
       "    </tr>\n",
       "    <tr>\n",
       "      <th>std</th>\n",
       "      <td>26.678565</td>\n",
       "      <td>18.580841</td>\n",
       "      <td>54.584805</td>\n",
       "      <td>15.344755</td>\n",
       "      <td>13.558588</td>\n",
       "    </tr>\n",
       "    <tr>\n",
       "      <th>min</th>\n",
       "      <td>-2.000000</td>\n",
       "      <td>2.800000</td>\n",
       "      <td>1.000000</td>\n",
       "      <td>-5.600000</td>\n",
       "      <td>-8.000000</td>\n",
       "    </tr>\n",
       "    <tr>\n",
       "      <th>25%</th>\n",
       "      <td>3.100000</td>\n",
       "      <td>23.800000</td>\n",
       "      <td>30.300000</td>\n",
       "      <td>13.900000</td>\n",
       "      <td>7.000000</td>\n",
       "    </tr>\n",
       "    <tr>\n",
       "      <th>50%</th>\n",
       "      <td>7.100000</td>\n",
       "      <td>35.300000</td>\n",
       "      <td>46.900000</td>\n",
       "      <td>19.500000</td>\n",
       "      <td>11.000000</td>\n",
       "    </tr>\n",
       "    <tr>\n",
       "      <th>75%</th>\n",
       "      <td>15.500000</td>\n",
       "      <td>49.900000</td>\n",
       "      <td>73.800000</td>\n",
       "      <td>27.300000</td>\n",
       "      <td>18.000000</td>\n",
       "    </tr>\n",
       "    <tr>\n",
       "      <th>max</th>\n",
       "      <td>401.799990</td>\n",
       "      <td>120.200000</td>\n",
       "      <td>734.299990</td>\n",
       "      <td>633.099980</td>\n",
       "      <td>128.000000</td>\n",
       "    </tr>\n",
       "  </tbody>\n",
       "</table>\n",
       "</div>"
      ],
      "text/plain": [
       "Species           NO          NO2          NOX         PM10        PM2.5\n",
       "count    8660.000000  8660.000000  8660.000000  8657.000000  5933.000000\n",
       "mean       15.045115    38.010185    61.078661    22.551704    14.999831\n",
       "std        26.678565    18.580841    54.584805    15.344755    13.558588\n",
       "min        -2.000000     2.800000     1.000000    -5.600000    -8.000000\n",
       "25%         3.100000    23.800000    30.300000    13.900000     7.000000\n",
       "50%         7.100000    35.300000    46.900000    19.500000    11.000000\n",
       "75%        15.500000    49.900000    73.800000    27.300000    18.000000\n",
       "max       401.799990   120.200000   734.299990   633.099980   128.000000"
      ]
     },
     "execution_count": 23,
     "metadata": {},
     "output_type": "execute_result"
    }
   ],
   "source": [
    "pvt_df.describe()"
   ]
  },
  {
   "cell_type": "markdown",
   "metadata": {
    "id": "VLItTewZjl4Z"
   },
   "source": [
    "* ¿Cuál es el mayor valor de NO2 registrado? ¿A qué día pertenece?\n",
    "El valor mayor de NO2 es: 120.200000 y se registró el 24/01/2017"
   ]
  },
  {
   "cell_type": "code",
   "execution_count": 24,
   "metadata": {
    "colab": {
     "base_uri": "https://localhost:8080/",
     "height": 112
    },
    "id": "6q33_kbBns0l",
    "outputId": "c0dd2f00-fe45-4946-c02c-76de3d339678"
   },
   "outputs": [
    {
     "data": {
      "text/html": [
       "<div>\n",
       "<style scoped>\n",
       "    .dataframe tbody tr th:only-of-type {\n",
       "        vertical-align: middle;\n",
       "    }\n",
       "\n",
       "    .dataframe tbody tr th {\n",
       "        vertical-align: top;\n",
       "    }\n",
       "\n",
       "    .dataframe thead th {\n",
       "        text-align: right;\n",
       "    }\n",
       "</style>\n",
       "<table border=\"1\" class=\"dataframe\">\n",
       "  <thead>\n",
       "    <tr style=\"text-align: right;\">\n",
       "      <th>Species</th>\n",
       "      <th>NO</th>\n",
       "      <th>NO2</th>\n",
       "      <th>NOX</th>\n",
       "      <th>PM10</th>\n",
       "      <th>PM2.5</th>\n",
       "    </tr>\n",
       "    <tr>\n",
       "      <th>ReadingDateTime</th>\n",
       "      <th></th>\n",
       "      <th></th>\n",
       "      <th></th>\n",
       "      <th></th>\n",
       "      <th></th>\n",
       "    </tr>\n",
       "  </thead>\n",
       "  <tbody>\n",
       "    <tr>\n",
       "      <th>24/01/2017 19:00</th>\n",
       "      <td>148.60001</td>\n",
       "      <td>120.2</td>\n",
       "      <td>348.10001</td>\n",
       "      <td>44.4</td>\n",
       "      <td>42.0</td>\n",
       "    </tr>\n",
       "  </tbody>\n",
       "</table>\n",
       "</div>"
      ],
      "text/plain": [
       "Species                  NO    NO2        NOX  PM10  PM2.5\n",
       "ReadingDateTime                                           \n",
       "24/01/2017 19:00  148.60001  120.2  348.10001  44.4   42.0"
      ]
     },
     "execution_count": 24,
     "metadata": {},
     "output_type": "execute_result"
    }
   ],
   "source": [
    "pvt_df.sort_values('NO2', ascending=False).head(1)\n"
   ]
  },
  {
   "cell_type": "markdown",
   "metadata": {
    "id": "tRV0gPGln1uM"
   },
   "source": [
    "* ¿Cuál es el menor valor de PM10 registrado?¿A qué día pertenece? El valor menor registrado para PM10 =  -5.600000 y se registró el 12/09/2017"
   ]
  },
  {
   "cell_type": "code",
   "execution_count": 25,
   "metadata": {
    "colab": {
     "base_uri": "https://localhost:8080/",
     "height": 112
    },
    "id": "C9s3k7ETqcas",
    "outputId": "31ab976b-df02-4759-ede0-5cb834d77664"
   },
   "outputs": [
    {
     "data": {
      "text/html": [
       "<div>\n",
       "<style scoped>\n",
       "    .dataframe tbody tr th:only-of-type {\n",
       "        vertical-align: middle;\n",
       "    }\n",
       "\n",
       "    .dataframe tbody tr th {\n",
       "        vertical-align: top;\n",
       "    }\n",
       "\n",
       "    .dataframe thead th {\n",
       "        text-align: right;\n",
       "    }\n",
       "</style>\n",
       "<table border=\"1\" class=\"dataframe\">\n",
       "  <thead>\n",
       "    <tr style=\"text-align: right;\">\n",
       "      <th>Species</th>\n",
       "      <th>NO</th>\n",
       "      <th>NO2</th>\n",
       "      <th>NOX</th>\n",
       "      <th>PM10</th>\n",
       "      <th>PM2.5</th>\n",
       "    </tr>\n",
       "    <tr>\n",
       "      <th>ReadingDateTime</th>\n",
       "      <th></th>\n",
       "      <th></th>\n",
       "      <th></th>\n",
       "      <th></th>\n",
       "      <th></th>\n",
       "    </tr>\n",
       "  </thead>\n",
       "  <tbody>\n",
       "    <tr>\n",
       "      <th>12/09/2017 23:00</th>\n",
       "      <td>0.1</td>\n",
       "      <td>7.0</td>\n",
       "      <td>7.1</td>\n",
       "      <td>-5.6</td>\n",
       "      <td>NaN</td>\n",
       "    </tr>\n",
       "  </tbody>\n",
       "</table>\n",
       "</div>"
      ],
      "text/plain": [
       "Species            NO  NO2  NOX  PM10  PM2.5\n",
       "ReadingDateTime                             \n",
       "12/09/2017 23:00  0.1  7.0  7.1  -5.6    NaN"
      ]
     },
     "execution_count": 25,
     "metadata": {},
     "output_type": "execute_result"
    }
   ],
   "source": [
    "pvt_df.sort_values('PM10', ascending=True).head(1)\n"
   ]
  },
  {
   "cell_type": "markdown",
   "metadata": {
    "id": "6GbQG1Foq29j"
   },
   "source": [
    "* ¿Cuál es la mediana del NO? ¿Cómo se interpreta?"
   ]
  },
  {
   "cell_type": "code",
   "execution_count": 26,
   "metadata": {
    "colab": {
     "base_uri": "https://localhost:8080/"
    },
    "id": "fGg-PrG8q5Ib",
    "outputId": "b40a0b99-86f5-47e0-b241-a274e464da76"
   },
   "outputs": [
    {
     "data": {
      "text/plain": [
       "7.1"
      ]
     },
     "execution_count": 26,
     "metadata": {},
     "output_type": "execute_result"
    }
   ],
   "source": [
    "pvt_df['NO'].median()\n",
    "\n"
   ]
  },
  {
   "cell_type": "markdown",
   "metadata": {
    "id": "xpAZ_YVXrOaC"
   },
   "source": [
    "La mediana es una medida de tendencia central que indica el valor que se encuentra en el medio de un conjunto de datos cuando estos se ordenan de menor a mayor. Esto implica que el 50% de las mediciones de NO son menores o iguales a 7.1, y el otro 50% de las mediciones son mayores o iguales a 7.1."
   ]
  },
  {
   "cell_type": "markdown",
   "metadata": {
    "id": "bC5gvYr7sBsQ"
   },
   "source": [
    "* ¿Cuál es el primer cuartil de PM2.5? ¿Qué significa?"
   ]
  },
  {
   "cell_type": "markdown",
   "metadata": {
    "id": "efFP8zUYuJ95"
   },
   "source": [
    "El primer cuartil (25%) es: 7\n",
    "Es decir el valor que  divide el primer 25% de los datos cuando estos se ordenan de menor a mayor. En este caso, el primer cuartil de las mediciones de PM2.5 es 7. Esto significa que el 25% de las mediciones de PM2.5 son iguales o inferiores a 7 y lo podemos interpretar como que  el 25% de las horas del año (es decir, aproximadamente 2,190 horas) tuvieron una concentración de PM2.5 de 7 o menos. Determinar el impacto que  puede tener este valor en el contexto, dependerá de los valor de referencia dados."
   ]
  },
  {
   "cell_type": "markdown",
   "metadata": {
    "id": "Rki16hYaFd9p"
   },
   "source": [
    "7.\tDibuja un histograma para cada columna de `pvt_df`. ¿Qué contaminante tiene mayor variabilidad?"
   ]
  },
  {
   "cell_type": "code",
   "execution_count": 27,
   "metadata": {
    "colab": {
     "base_uri": "https://localhost:8080/",
     "height": 1000
    },
    "id": "onCLhwG3xaOy",
    "outputId": "27703ba2-1a06-4902-ca7f-c261b13c46f6"
   },
   "outputs": [
    {
     "data": {
      "image/png": "[encoded data removed]",
      "text/plain": [
       "<Figure size 640x480 with 1 Axes>"
      ]
     },
     "metadata": {},
     "output_type": "display_data"
    },
    {
     "data": {
      "image/png": "[encoded data removed]",
      "text/plain": [
       "<Figure size 640x480 with 1 Axes>"
      ]
     },
     "metadata": {},
     "output_type": "display_data"
    },
    {
     "data": {
      "image/png": "[encoded data removed]",
      "text/plain": [
       "<Figure size 640x480 with 1 Axes>"
      ]
     },
     "metadata": {},
     "output_type": "display_data"
    },
    {
     "data": {
      "image/png": "[encoded data removed]",
      "text/plain": [
       "<Figure size 640x480 with 1 Axes>"
      ]
     },
     "metadata": {},
     "output_type": "display_data"
    },
    {
     "data": {
      "image/png": "[encoded data removed]",
      "text/plain": [
       "<Figure size 640x480 with 1 Axes>"
      ]
     },
     "metadata": {},
     "output_type": "display_data"
    }
   ],
   "source": [
    "import matplotlib.pyplot as plt\n",
    "# Dibuja un histograma para cada columna de pvt_df\n",
    "for column in pvt_df.columns:\n",
    "    plt.figure()\n",
    "    plt.hist(pvt_df[column].dropna(), bins=20)\n",
    "    plt.title(f'Histograma de {column}')\n",
    "    plt.xlabel(column)\n",
    "    plt.ylabel('Frecuencia')\n",
    "    plt.show()\n",
    "\n"
   ]
  },
  {
   "cell_type": "code",
   "execution_count": 28,
   "metadata": {
    "colab": {
     "base_uri": "https://localhost:8080/"
    },
    "id": "BnHN9I0O2_y1",
    "outputId": "96b30490-f5a7-4ff3-be3b-c5f8d233aa6e"
   },
   "outputs": [
    {
     "name": "stdout",
     "output_type": "stream",
     "text": [
      "Species\n",
      "NO       26.678565\n",
      "NO2      18.580841\n",
      "NOX      54.584805\n",
      "PM10     15.344755\n",
      "PM2.5    13.558588\n",
      "dtype: float64\n"
     ]
    }
   ],
   "source": [
    "#Distribución\n",
    "std_by_contaminant = pvt_df.std()\n",
    "print(std_by_contaminant)\n"
   ]
  },
  {
   "cell_type": "code",
   "execution_count": 29,
   "metadata": {
    "colab": {
     "base_uri": "https://localhost:8080/"
    },
    "id": "536T8R4B3KO8",
    "outputId": "fb96da1c-fb18-453b-faf3-7b95e350d95e"
   },
   "outputs": [
    {
     "name": "stdout",
     "output_type": "stream",
     "text": [
      "Species\n",
      "NO       12.4\n",
      "NO2      26.1\n",
      "NOX      43.5\n",
      "PM10     13.4\n",
      "PM2.5    11.0\n",
      "dtype: float64\n"
     ]
    }
   ],
   "source": [
    "# Rango intercuartílico (IQR) para cada contaminante\n",
    "iqr_by_contaminant = pvt_df.quantile(0.75) - pvt_df.quantile(0.25)\n",
    "print(iqr_by_contaminant)\n"
   ]
  },
  {
   "cell_type": "code",
   "execution_count": 30,
   "metadata": {
    "colab": {
     "base_uri": "https://localhost:8080/"
    },
    "id": "7xJuL-tt3VMP",
    "outputId": "c5e523e2-88a8-42ad-f9b6-05e7d13cf12e"
   },
   "outputs": [
    {
     "name": "stdout",
     "output_type": "stream",
     "text": [
      "Species\n",
      "NO       5.429386\n",
      "NO2      0.680088\n",
      "NOX      3.813652\n",
      "PM10     9.494859\n",
      "PM2.5    2.614549\n",
      "dtype: float64\n"
     ]
    }
   ],
   "source": [
    "#simetria\n",
    "skewness_by_contaminant = pvt_df.skew()\n",
    "print(skewness_by_contaminant)\n"
   ]
  },
  {
   "cell_type": "markdown",
   "metadata": {
    "id": "vkuhwjPSwMxR"
   },
   "source": [
    "* ¿Qué contaminante tiene mayor variabilidad?\n",
    "\n",
    "El contaminante con mayor varabilidad es: NOX\n",
    "La cola larga a la derecha del histograma es un indicativo de asimetría positiva y sugiere que los valores de NOX no están distribuidos de manera uniforme. En su lugar, hay una mayor concentración de valores bajos y algunos picos elevados que generan mayor variabilidad en los datos.\n",
    "\n",
    "La mayor parte de los valores de NOX están concentrados en el rango de 0 a 100, con un gran pico en el intervalo más bajo (alrededor de 0-50).\n",
    "Esto sugiere que en la mayoría de las observaciones, los niveles de NOX son bajos o moderados.\n",
    "\n",
    "Aunque la mayor parte de los valores se encuentran en el rango bajo, el histograma muestra una cola larga que se extiende hasta valores cercanos a 600.\n",
    "Este patrón indica la presencia de algunos valores excepcionalmente altos, que se registran con menor frecuencia pero que afectan significativamente la variabilidad del contaminante.\n",
    "\n",
    "Para confirmarlo se realizaron las siguientes revisiónes:\n",
    "Desviación estándar:\n",
    "La desviación estándar de NOX es 54.58, lo que indica que sus valores están mucho más dispersos alrededor de la media en comparación con otros contaminantes. La dispersión elevada se debe a que, aunque la mayoría de las mediciones están concentradas en valores bajos, hay valores mucho más altos que elevan la variabilidad general.\n",
    "\n",
    "Rango intercuartílico (IQR):\n",
    "El IQR de NOX es 43.5, lo que significa que los valores en el rango medio (entre el 25% y el 75%) también están bastante dispersos.\n",
    "Aunque la mayoría de las observaciones están en valores bajos o moderados, el amplio IQR muestra que hay una gran dispersión en los valores centrales.\n",
    "\n",
    "Asimetría:\n",
    "La asimetría de NOX es 9.49, lo que indica una distribución con una fuerte cola hacia la derecha. Este valor extremadamente alto de skewness refuerza la presencia de valores atípicos (outliers) elevados que afectan significativamente la distribución y aumentan la variabilidad.\n",
    "\n",
    "\n"
   ]
  },
  {
   "cell_type": "markdown",
   "metadata": {
    "id": "2hJ4LzP3fgvy"
   },
   "source": [
    "8.\tEjecuta el siguiente código y comenta qué hace cada línea:"
   ]
  },
  {
   "cell_type": "code",
   "execution_count": 31,
   "metadata": {
    "colab": {
     "base_uri": "https://localhost:8080/",
     "height": 455
    },
    "id": "goQuWzNVfomA",
    "outputId": "c22819b7-b878-47ce-d4ef-2fa04a24e2e6"
   },
   "outputs": [
    {
     "data": {
      "text/html": [
       "<div>\n",
       "<style scoped>\n",
       "    .dataframe tbody tr th:only-of-type {\n",
       "        vertical-align: middle;\n",
       "    }\n",
       "\n",
       "    .dataframe tbody tr th {\n",
       "        vertical-align: top;\n",
       "    }\n",
       "\n",
       "    .dataframe thead th {\n",
       "        text-align: right;\n",
       "    }\n",
       "</style>\n",
       "<table border=\"1\" class=\"dataframe\">\n",
       "  <thead>\n",
       "    <tr style=\"text-align: right;\">\n",
       "      <th></th>\n",
       "      <th></th>\n",
       "      <th></th>\n",
       "      <th></th>\n",
       "      <th>Value</th>\n",
       "    </tr>\n",
       "    <tr>\n",
       "      <th>Month</th>\n",
       "      <th>Day</th>\n",
       "      <th>Time</th>\n",
       "      <th>Species</th>\n",
       "      <th></th>\n",
       "    </tr>\n",
       "  </thead>\n",
       "  <tbody>\n",
       "    <tr>\n",
       "      <th rowspan=\"5\" valign=\"top\">01</th>\n",
       "      <th rowspan=\"5\" valign=\"top\">01</th>\n",
       "      <th>00:00</th>\n",
       "      <th>NO</th>\n",
       "      <td>3.5</td>\n",
       "    </tr>\n",
       "    <tr>\n",
       "      <th>01:00</th>\n",
       "      <th>NO</th>\n",
       "      <td>3.6</td>\n",
       "    </tr>\n",
       "    <tr>\n",
       "      <th>02:00</th>\n",
       "      <th>NO</th>\n",
       "      <td>2.2</td>\n",
       "    </tr>\n",
       "    <tr>\n",
       "      <th>03:00</th>\n",
       "      <th>NO</th>\n",
       "      <td>2.1</td>\n",
       "    </tr>\n",
       "    <tr>\n",
       "      <th>04:00</th>\n",
       "      <th>NO</th>\n",
       "      <td>3.3</td>\n",
       "    </tr>\n",
       "    <tr>\n",
       "      <th>...</th>\n",
       "      <th>...</th>\n",
       "      <th>...</th>\n",
       "      <th>...</th>\n",
       "      <td>...</td>\n",
       "    </tr>\n",
       "    <tr>\n",
       "      <th rowspan=\"5\" valign=\"top\">12</th>\n",
       "      <th rowspan=\"5\" valign=\"top\">31</th>\n",
       "      <th>19:00</th>\n",
       "      <th>PM2.5</th>\n",
       "      <td>-2.0</td>\n",
       "    </tr>\n",
       "    <tr>\n",
       "      <th>20:00</th>\n",
       "      <th>PM2.5</th>\n",
       "      <td>6.0</td>\n",
       "    </tr>\n",
       "    <tr>\n",
       "      <th>21:00</th>\n",
       "      <th>PM2.5</th>\n",
       "      <td>5.0</td>\n",
       "    </tr>\n",
       "    <tr>\n",
       "      <th>22:00</th>\n",
       "      <th>PM2.5</th>\n",
       "      <td>5.0</td>\n",
       "    </tr>\n",
       "    <tr>\n",
       "      <th>23:00</th>\n",
       "      <th>PM2.5</th>\n",
       "      <td>6.0</td>\n",
       "    </tr>\n",
       "  </tbody>\n",
       "</table>\n",
       "<p>43800 rows × 1 columns</p>\n",
       "</div>"
      ],
      "text/plain": [
       "                         Value\n",
       "Month Day Time  Species       \n",
       "01    01  00:00 NO         3.5\n",
       "          01:00 NO         3.6\n",
       "          02:00 NO         2.2\n",
       "          03:00 NO         2.1\n",
       "          04:00 NO         3.3\n",
       "...                        ...\n",
       "12    31  19:00 PM2.5     -2.0\n",
       "          20:00 PM2.5      6.0\n",
       "          21:00 PM2.5      5.0\n",
       "          22:00 PM2.5      5.0\n",
       "          23:00 PM2.5      6.0\n",
       "\n",
       "[43800 rows x 1 columns]"
      ]
     },
     "execution_count": 31,
     "metadata": {},
     "output_type": "execute_result"
    }
   ],
   "source": [
    "datetime_df = air_df.ReadingDateTime.str.split(' ',expand=True)\n",
    "datetime_df.columns = ['Date','Time']\n",
    "datetime_df\n",
    "date_df = datetime_df.Date.str.split('/',expand=True)\n",
    "date_df.columns = ['Day','Month','Year']\n",
    "date_df\n",
    "air_df = air_df.join(date_df).join(datetime_df.Time).drop(columns=['ReadingDateTime','Year'])\n",
    "air_df = air_df.set_index(['Month','Day','Time','Species'])\n",
    "air_df"
   ]
  },
  {
   "cell_type": "markdown",
   "metadata": {
    "id": "3nh3Has87Sj-"
   },
   "source": [
    "Separa la columna ReadingDateTime de air_df en dos partes: la fecha y la hora.\n",
    "```\n",
    "datetime_df = air_df.ReadingDateTime.str.split(' ', expand=True)\n",
    "```\n",
    "\n",
    "Renombra las dos columnas en el DataFrame datetime_df como 'Date' (para la fecha) y 'Time' (para la hora).\n",
    "```\n",
    "datetime_df.columns = ['Date', 'Time']\n",
    "```\n",
    "\n",
    "Devuelve el DataFrame datetime_df con las columnas de fecha y hora, aunque no es necesario porque no se asigna a ninguna variable.\n",
    "```\n",
    "datetime_df\n",
    "```\n",
    "\n",
    "Separa la columna 'Date' en tres partes: día, mes y año.\n",
    "```\n",
    "date_df = datetime_df.Date.str.split('/', expand=True)\n",
    "```\n",
    "\n",
    "Renombra las columnas de date_df a 'Day', 'Month' y 'Year'.\n",
    "```\n",
    "date_df.columns = ['Day', 'Month', 'Year']\n",
    "```\n",
    "\n",
    "Añade las columnas separadas 'Day', 'Month', 'Time' al DataFrame original air_df y elimina las columnas innecesarias.\n",
    "```\n",
    "air_df = air_df.join(date_df).join(datetime_df.Time).drop(columns=['ReadingDateTime', 'Year'])\n",
    "\n",
    "```\n",
    "\n",
    "\n",
    "Establece un nuevo índice para air_df usando las columnas 'Month', 'Day', 'Time' y 'Species'.\n",
    "```\n",
    "air_df = air_df.set_index(['Month', 'Day', 'Time', 'Species'])\n",
    "\n",
    "```\n",
    "\n",
    "finalmente en el fragmento de codigo se toma la columna ReadingDateTime y se  descompone en componentes más manejables: fecha (día, mes, año) y hora. Luego agrega estas nuevas columnas al DataFrame original y elimina las que ya no son necesarias, finalmente establece un índice compuesto por mes, día, hora y especie de contaminante, lo que permite realizar consultas más flexibles.\n"
   ]
  },
  {
   "cell_type": "markdown",
   "metadata": {
    "id": "37E3dol8fpik"
   },
   "source": [
    "9. Ejecuta la siguiente instrucción y compara su salida con la del código anterior (ejercicio 8). ¿Son iguales?"
   ]
  },
  {
   "cell_type": "code",
   "execution_count": 32,
   "metadata": {
    "colab": {
     "base_uri": "https://localhost:8080/",
     "height": 487
    },
    "id": "cgbAxJrvfweW",
    "outputId": "9761f8da-63fa-4f08-d861-8ef6da37ee84"
   },
   "outputs": [
    {
     "data": {
      "text/html": [
       "<div>\n",
       "<style scoped>\n",
       "    .dataframe tbody tr th:only-of-type {\n",
       "        vertical-align: middle;\n",
       "    }\n",
       "\n",
       "    .dataframe tbody tr th {\n",
       "        vertical-align: top;\n",
       "    }\n",
       "\n",
       "    .dataframe thead tr th {\n",
       "        text-align: left;\n",
       "    }\n",
       "\n",
       "    .dataframe thead tr:last-of-type th {\n",
       "        text-align: right;\n",
       "    }\n",
       "</style>\n",
       "<table border=\"1\" class=\"dataframe\">\n",
       "  <thead>\n",
       "    <tr>\n",
       "      <th></th>\n",
       "      <th></th>\n",
       "      <th></th>\n",
       "      <th colspan=\"5\" halign=\"left\">Value</th>\n",
       "    </tr>\n",
       "    <tr>\n",
       "      <th></th>\n",
       "      <th></th>\n",
       "      <th>Species</th>\n",
       "      <th>NO</th>\n",
       "      <th>NO2</th>\n",
       "      <th>NOX</th>\n",
       "      <th>PM10</th>\n",
       "      <th>PM2.5</th>\n",
       "    </tr>\n",
       "    <tr>\n",
       "      <th>Month</th>\n",
       "      <th>Day</th>\n",
       "      <th>Time</th>\n",
       "      <th></th>\n",
       "      <th></th>\n",
       "      <th></th>\n",
       "      <th></th>\n",
       "      <th></th>\n",
       "    </tr>\n",
       "  </thead>\n",
       "  <tbody>\n",
       "    <tr>\n",
       "      <th rowspan=\"5\" valign=\"top\">01</th>\n",
       "      <th rowspan=\"5\" valign=\"top\">01</th>\n",
       "      <th>00:00</th>\n",
       "      <td>3.5</td>\n",
       "      <td>30.8</td>\n",
       "      <td>36.2</td>\n",
       "      <td>35.7</td>\n",
       "      <td>NaN</td>\n",
       "    </tr>\n",
       "    <tr>\n",
       "      <th>01:00</th>\n",
       "      <td>3.6</td>\n",
       "      <td>31.5</td>\n",
       "      <td>37.0</td>\n",
       "      <td>28.5</td>\n",
       "      <td>NaN</td>\n",
       "    </tr>\n",
       "    <tr>\n",
       "      <th>02:00</th>\n",
       "      <td>2.2</td>\n",
       "      <td>27.3</td>\n",
       "      <td>30.7</td>\n",
       "      <td>22.7</td>\n",
       "      <td>NaN</td>\n",
       "    </tr>\n",
       "    <tr>\n",
       "      <th>03:00</th>\n",
       "      <td>2.1</td>\n",
       "      <td>23.5</td>\n",
       "      <td>26.8</td>\n",
       "      <td>20.5</td>\n",
       "      <td>NaN</td>\n",
       "    </tr>\n",
       "    <tr>\n",
       "      <th>04:00</th>\n",
       "      <td>3.3</td>\n",
       "      <td>28.0</td>\n",
       "      <td>33.0</td>\n",
       "      <td>22.1</td>\n",
       "      <td>NaN</td>\n",
       "    </tr>\n",
       "    <tr>\n",
       "      <th>...</th>\n",
       "      <th>...</th>\n",
       "      <th>...</th>\n",
       "      <td>...</td>\n",
       "      <td>...</td>\n",
       "      <td>...</td>\n",
       "      <td>...</td>\n",
       "      <td>...</td>\n",
       "    </tr>\n",
       "    <tr>\n",
       "      <th rowspan=\"5\" valign=\"top\">12</th>\n",
       "      <th rowspan=\"5\" valign=\"top\">31</th>\n",
       "      <th>19:00</th>\n",
       "      <td>0.7</td>\n",
       "      <td>17.5</td>\n",
       "      <td>18.5</td>\n",
       "      <td>16.3</td>\n",
       "      <td>-2.0</td>\n",
       "    </tr>\n",
       "    <tr>\n",
       "      <th>20:00</th>\n",
       "      <td>0.7</td>\n",
       "      <td>17.5</td>\n",
       "      <td>18.6</td>\n",
       "      <td>14.5</td>\n",
       "      <td>6.0</td>\n",
       "    </tr>\n",
       "    <tr>\n",
       "      <th>21:00</th>\n",
       "      <td>0.7</td>\n",
       "      <td>14.1</td>\n",
       "      <td>15.1</td>\n",
       "      <td>8.6</td>\n",
       "      <td>5.0</td>\n",
       "    </tr>\n",
       "    <tr>\n",
       "      <th>22:00</th>\n",
       "      <td>1.1</td>\n",
       "      <td>22.0</td>\n",
       "      <td>23.6</td>\n",
       "      <td>12.5</td>\n",
       "      <td>5.0</td>\n",
       "    </tr>\n",
       "    <tr>\n",
       "      <th>23:00</th>\n",
       "      <td>0.9</td>\n",
       "      <td>19.4</td>\n",
       "      <td>20.7</td>\n",
       "      <td>10.4</td>\n",
       "      <td>6.0</td>\n",
       "    </tr>\n",
       "  </tbody>\n",
       "</table>\n",
       "<p>8760 rows × 5 columns</p>\n",
       "</div>"
      ],
      "text/plain": [
       "                Value                        \n",
       "Species            NO   NO2   NOX  PM10 PM2.5\n",
       "Month Day Time                               \n",
       "01    01  00:00   3.5  30.8  36.2  35.7   NaN\n",
       "          01:00   3.6  31.5  37.0  28.5   NaN\n",
       "          02:00   2.2  27.3  30.7  22.7   NaN\n",
       "          03:00   2.1  23.5  26.8  20.5   NaN\n",
       "          04:00   3.3  28.0  33.0  22.1   NaN\n",
       "...               ...   ...   ...   ...   ...\n",
       "12    31  19:00   0.7  17.5  18.5  16.3  -2.0\n",
       "          20:00   0.7  17.5  18.6  14.5   6.0\n",
       "          21:00   0.7  14.1  15.1   8.6   5.0\n",
       "          22:00   1.1  22.0  23.6  12.5   5.0\n",
       "          23:00   0.9  19.4  20.7  10.4   6.0\n",
       "\n",
       "[8760 rows x 5 columns]"
      ]
     },
     "execution_count": 32,
     "metadata": {},
     "output_type": "execute_result"
    }
   ],
   "source": [
    "air_df.unstack()"
   ]
  },
  {
   "cell_type": "markdown",
   "metadata": {
    "id": "S4JoOVqm-Lza"
   },
   "source": [
    "\n",
    "* Ejecuta la siguiente instrucción y compara su salida con la del código anterior (ejercicio 8). ¿Son iguales?\n",
    "\n",
    "En el resultado del punto 8, se tiene un índice multi-nivel con las especies de contaminantes en el nivel más bajo del índice. Cada fila representa una combinación de Month, Day, Time, y Species, con un valor de concentración de contaminante. Este se muestra en formato largo y cada fila representa un contaminante especifico.\n",
    "\n",
    "Con air_df.unstack(), las especies de contaminantes se han convertido en columnas, y cada fila ahora representa una combinación de Month, Day, y Time, con los valores de concentración para cada contaminante en columnas separadas.Este Representa un formato ancho, donde cada fila contiene multiples mediciones, para una combinación de Month, Day, y Time."
   ]
  },
  {
   "cell_type": "markdown",
   "metadata": {
    "id": "K1vWLX2ffxHV"
   },
   "source": [
    "10.\tExplica cuáles son las diferencias y similitudes entre el par `melt()/pivot()` y el par `stack()/unstack()`. Si tuvieras que elegir una contraparte para `melt()` entre `stack()/unstack()`, ¿cuál elegirías? ¿Por qué?"
   ]
  },
  {
   "cell_type": "markdown",
   "metadata": {
    "id": "L0EtgOVIfzRd"
   },
   "source": [
    "\n",
    "Diferencias y similutudes entre:\n",
    "```\n",
    "melt()/pivot()\n",
    "```\n",
    "```\n",
    "melt()\n",
    "```\n",
    "Convierte un DataFrame de formato ancho (wide format) a formato largo (long format).\n",
    "Normalmente se utiliza cuando se tiene varias columnas que representan diferentes variables, y se requiere convertirlas en filas, con una columna que contenga las variables y otra que contenga sus valores.\n",
    "\n",
    "```\n",
    "pivot()\n",
    "```\n",
    "Convierte un DataFrame de formato largo a formato ancho. Es común usarlo para tomar una columna con nombres de variables y otra con sus valores, y reorganizarlas en columnas separadas.\n",
    "\n",
    "```\n",
    "stack() / unstack()\n",
    "```\n",
    "\n",
    "```\n",
    "stack()\n",
    "```\n",
    "Convierte un DataFrame con un índice de varias columnas (multiindex) de formato ancho a formato largo. Transforma las columnas en filas, creando un nuevo nivel en el índice.\n",
    "\n",
    "```\n",
    "unstack()\n",
    "```\n",
    "Convierte un DataFrame con un índice multi-nivel de formato largo a formato ancho.Toma uno de los niveles del índice y lo convierte en columnas, reorganizando los datos en un formato más ancho.\n",
    "\n",
    "\n",
    "melt() y stack() Ambos convierten de formato ancho a formato largo, pero melt() es más general y no requiere un índice jerárquico, mientras que stack() trabaja con índices multi-nivel.\n",
    "\n",
    "\n",
    "pivot() y  unstack(): Ambos convierten de formato largo a formato ancho, pero pivot() transforma columnas en filas, mientras que unstack() reorganiza los niveles del índice en columnas.\n",
    "\n",
    "\n",
    "Si tuviera que elegir una contraparte de melt(), sería stack() porque ambos convierten los datos de un formato ancho a un formato largo.  \n",
    "EL convertir un formato ancho en un formato largo, permite trabajar con los datos en un formato más adecuado para análisis comparativos, agregaciones y visualizaciones, lo que es util cuando se tienen multiples categorias que deben transformarse para realizar cálculos, comparaciones entre variables o para adaptarse a herramientas de análisis que prefieren datos en formato largo. Además,conserva la jerarquía del índice."
   ]
  }
 ],
 "metadata": {
  "colab": {
   "provenance": []
  },
  "kernelspec": {
   "display_name": "Python 3 (ipykernel)",
   "language": "python",
   "name": "python3"
  },
  "language_info": {
   "codemirror_mode": {
    "name": "ipython",
    "version": 3
   },
   "file_extension": ".py",
   "mimetype": "text/x-python",
   "name": "python",
   "nbconvert_exporter": "python",
   "pygments_lexer": "ipython3",
   "version": "3.12.2"
  }
 },
 "nbformat": 4,
 "nbformat_minor": 4
}
